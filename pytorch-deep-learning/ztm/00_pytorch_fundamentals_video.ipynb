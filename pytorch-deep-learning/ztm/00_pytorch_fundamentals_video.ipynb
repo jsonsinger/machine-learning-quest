{
  "nbformat": 4,
  "nbformat_minor": 0,
  "metadata": {
    "colab": {
      "provenance": [],
      "authorship_tag": "ABX9TyMhKTBDjNtnPXX03uxhepEA",
      "include_colab_link": true
    },
    "kernelspec": {
      "name": "python3",
      "display_name": "Python 3"
    },
    "language_info": {
      "name": "python"
    }
  },
  "cells": [
    {
      "cell_type": "markdown",
      "metadata": {
        "id": "view-in-github",
        "colab_type": "text"
      },
      "source": [
        "<a href=\"https://colab.research.google.com/github/jsonsinger/machine-learning-quest/blob/main/pytorch-deep-learning/ztm/00_pytorch_fundamentals_video.ipynb\" target=\"_parent\"><img src=\"https://colab.research.google.com/assets/colab-badge.svg\" alt=\"Open In Colab\"/></a>"
      ]
    },
    {
      "cell_type": "code",
      "execution_count": 1,
      "metadata": {
        "colab": {
          "base_uri": "https://localhost:8080/"
        },
        "id": "EvdoVsYnnaqM",
        "outputId": "052f506f-0d79-45cd-b8ae-deb49959cb48"
      },
      "outputs": [
        {
          "output_type": "stream",
          "name": "stdout",
          "text": [
            "Hello World, It's Pytorch Learning Time\n"
          ]
        }
      ],
      "source": [
        "print(\"Hello World, It's Pytorch Learning Time\")"
      ]
    },
    {
      "cell_type": "code",
      "source": [],
      "metadata": {
        "id": "_O5J7lemqd9o"
      },
      "execution_count": null,
      "outputs": []
    }
  ]
}